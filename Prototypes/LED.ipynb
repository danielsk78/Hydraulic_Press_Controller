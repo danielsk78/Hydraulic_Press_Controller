{
 "cells": [
  {
   "cell_type": "code",
   "execution_count": null,
   "metadata": {},
   "outputs": [],
   "source": [
    "try:\n",
    "    import RPi.GPIO as IO\n",
    "    RPi_IMPORT = True\n",
    "    print('RPi.GPIO imported succesfully')\n",
    "except ImportError:\n",
    "    print('RPi.GPIO only available for Raspberry Pi, use Dummy')\n",
    "    RPi_IMPORT = False\n",
    "    \n",
    "import time   \n",
    "import tkinter as tk\n",
    "from tkinter import ttk"
   ]
  },
  {
   "cell_type": "code",
   "execution_count": 2,
   "metadata": {},
   "outputs": [
    {
     "ename": "NameError",
     "evalue": "name 'IO' is not defined",
     "output_type": "error",
     "traceback": [
      "\u001b[1;31m---------------------------------------------------------------------------\u001b[0m",
      "\u001b[1;31mNameError\u001b[0m                                 Traceback (most recent call last)",
      "\u001b[1;32m<ipython-input-2-55bc58e18b10>\u001b[0m in \u001b[0;36m<module>\u001b[1;34m\u001b[0m\n\u001b[1;32m----> 1\u001b[1;33m \u001b[0mIO\u001b[0m\u001b[1;33m.\u001b[0m\u001b[0msetwarnings\u001b[0m\u001b[1;33m(\u001b[0m\u001b[1;32mFalse\u001b[0m\u001b[1;33m)\u001b[0m\u001b[1;33m\u001b[0m\u001b[1;33m\u001b[0m\u001b[0m\n\u001b[0m",
      "\u001b[1;31mNameError\u001b[0m: name 'IO' is not defined"
     ]
    }
   ],
   "source": [
    "IO.setwarnings(False)"
   ]
  },
  {
   "cell_type": "code",
   "execution_count": 3,
   "metadata": {},
   "outputs": [
    {
     "ename": "NameError",
     "evalue": "name 'IO' is not defined",
     "output_type": "error",
     "traceback": [
      "\u001b[1;31m---------------------------------------------------------------------------\u001b[0m",
      "\u001b[1;31mNameError\u001b[0m                                 Traceback (most recent call last)",
      "\u001b[1;32m<ipython-input-3-fdb3fd28af37>\u001b[0m in \u001b[0;36m<module>\u001b[1;34m\u001b[0m\n\u001b[1;32m----> 1\u001b[1;33m \u001b[0mIO\u001b[0m\u001b[1;33m.\u001b[0m\u001b[0msetmode\u001b[0m \u001b[1;33m(\u001b[0m\u001b[0mIO\u001b[0m\u001b[1;33m.\u001b[0m\u001b[0mBCM\u001b[0m\u001b[1;33m)\u001b[0m\u001b[1;33m\u001b[0m\u001b[1;33m\u001b[0m\u001b[0m\n\u001b[0m",
      "\u001b[1;31mNameError\u001b[0m: name 'IO' is not defined"
     ]
    }
   ],
   "source": [
    "IO.setmode (IO.BCM)\n"
   ]
  },
  {
   "cell_type": "markdown",
   "metadata": {},
   "source": [
    "### Turn on and off LED\n"
   ]
  },
  {
   "cell_type": "code",
   "execution_count": 4,
   "metadata": {},
   "outputs": [
    {
     "ename": "NameError",
     "evalue": "name 'IO' is not defined",
     "output_type": "error",
     "traceback": [
      "\u001b[1;31m---------------------------------------------------------------------------\u001b[0m",
      "\u001b[1;31mNameError\u001b[0m                                 Traceback (most recent call last)",
      "\u001b[1;32m<ipython-input-4-392cc41a4bb4>\u001b[0m in \u001b[0;36m<module>\u001b[1;34m\u001b[0m\n\u001b[1;32m----> 1\u001b[1;33m \u001b[0mIO\u001b[0m\u001b[1;33m.\u001b[0m\u001b[0msetup\u001b[0m\u001b[1;33m(\u001b[0m\u001b[1;36m19\u001b[0m\u001b[1;33m,\u001b[0m\u001b[0mIO\u001b[0m\u001b[1;33m.\u001b[0m\u001b[0mOUT\u001b[0m\u001b[1;33m)\u001b[0m\u001b[1;33m\u001b[0m\u001b[1;33m\u001b[0m\u001b[0m\n\u001b[0m",
      "\u001b[1;31mNameError\u001b[0m: name 'IO' is not defined"
     ]
    }
   ],
   "source": [
    "IO.setup(19,IO.OUT)"
   ]
  },
  {
   "cell_type": "code",
   "execution_count": 5,
   "metadata": {},
   "outputs": [
    {
     "ename": "NameError",
     "evalue": "name 'IO' is not defined",
     "output_type": "error",
     "traceback": [
      "\u001b[1;31m---------------------------------------------------------------------------\u001b[0m",
      "\u001b[1;31mNameError\u001b[0m                                 Traceback (most recent call last)",
      "\u001b[1;32m<ipython-input-5-fad511cfe749>\u001b[0m in \u001b[0;36m<module>\u001b[1;34m\u001b[0m\n\u001b[1;32m----> 1\u001b[1;33m \u001b[0mIO\u001b[0m\u001b[1;33m.\u001b[0m\u001b[0msetup\u001b[0m\u001b[1;33m(\u001b[0m\u001b[1;36m21\u001b[0m\u001b[1;33m,\u001b[0m\u001b[0mIO\u001b[0m\u001b[1;33m.\u001b[0m\u001b[0mOUT\u001b[0m\u001b[1;33m)\u001b[0m\u001b[1;33m\u001b[0m\u001b[1;33m\u001b[0m\u001b[0m\n\u001b[0m",
      "\u001b[1;31mNameError\u001b[0m: name 'IO' is not defined"
     ]
    }
   ],
   "source": [
    "\n",
    "IO.setup(21,IO.OUT)\n"
   ]
  },
  {
   "cell_type": "code",
   "execution_count": 6,
   "metadata": {},
   "outputs": [
    {
     "ename": "NameError",
     "evalue": "name 'IO' is not defined",
     "output_type": "error",
     "traceback": [
      "\u001b[1;31m---------------------------------------------------------------------------\u001b[0m",
      "\u001b[1;31mNameError\u001b[0m                                 Traceback (most recent call last)",
      "\u001b[1;32m<ipython-input-6-e11cee547b7e>\u001b[0m in \u001b[0;36m<module>\u001b[1;34m\u001b[0m\n\u001b[1;32m----> 1\u001b[1;33m \u001b[0mIO\u001b[0m\u001b[1;33m.\u001b[0m\u001b[0moutput\u001b[0m\u001b[1;33m(\u001b[0m\u001b[1;36m21\u001b[0m\u001b[1;33m,\u001b[0m\u001b[0mIO\u001b[0m\u001b[1;33m.\u001b[0m\u001b[0mHIGH\u001b[0m\u001b[1;33m)\u001b[0m\u001b[1;33m\u001b[0m\u001b[1;33m\u001b[0m\u001b[0m\n\u001b[0m",
      "\u001b[1;31mNameError\u001b[0m: name 'IO' is not defined"
     ]
    }
   ],
   "source": [
    "IO.output(21,IO.HIGH)\n"
   ]
  },
  {
   "cell_type": "code",
   "execution_count": 7,
   "metadata": {},
   "outputs": [
    {
     "ename": "NameError",
     "evalue": "name 'IO' is not defined",
     "output_type": "error",
     "traceback": [
      "\u001b[1;31m---------------------------------------------------------------------------\u001b[0m",
      "\u001b[1;31mNameError\u001b[0m                                 Traceback (most recent call last)",
      "\u001b[1;32m<ipython-input-7-64c2872c0054>\u001b[0m in \u001b[0;36m<module>\u001b[1;34m\u001b[0m\n\u001b[1;32m----> 1\u001b[1;33m \u001b[0mIO\u001b[0m\u001b[1;33m.\u001b[0m\u001b[0moutput\u001b[0m\u001b[1;33m(\u001b[0m\u001b[1;36m21\u001b[0m\u001b[1;33m,\u001b[0m\u001b[0mIO\u001b[0m\u001b[1;33m.\u001b[0m\u001b[0mLOW\u001b[0m\u001b[1;33m)\u001b[0m\u001b[1;33m\u001b[0m\u001b[1;33m\u001b[0m\u001b[0m\n\u001b[0m",
      "\u001b[1;31mNameError\u001b[0m: name 'IO' is not defined"
     ]
    }
   ],
   "source": [
    "IO.output(21,IO.LOW)"
   ]
  },
  {
   "cell_type": "markdown",
   "metadata": {},
   "source": [
    "### Blink LED every 2 sec"
   ]
  },
  {
   "cell_type": "code",
   "execution_count": 8,
   "metadata": {},
   "outputs": [
    {
     "ename": "NameError",
     "evalue": "name 'IO' is not defined",
     "output_type": "error",
     "traceback": [
      "\u001b[1;31m---------------------------------------------------------------------------\u001b[0m",
      "\u001b[1;31mNameError\u001b[0m                                 Traceback (most recent call last)",
      "\u001b[1;32m<ipython-input-8-6a38b285523d>\u001b[0m in \u001b[0;36m<module>\u001b[1;34m\u001b[0m\n\u001b[1;32m----> 1\u001b[1;33m \u001b[0mIO\u001b[0m\u001b[1;33m.\u001b[0m\u001b[0msetmode\u001b[0m \u001b[1;33m(\u001b[0m\u001b[0mIO\u001b[0m\u001b[1;33m.\u001b[0m\u001b[0mBCM\u001b[0m\u001b[1;33m)\u001b[0m\u001b[1;33m\u001b[0m\u001b[1;33m\u001b[0m\u001b[0m\n\u001b[0m\u001b[0;32m      2\u001b[0m \u001b[0mIO\u001b[0m\u001b[1;33m.\u001b[0m\u001b[0msetup\u001b[0m\u001b[1;33m(\u001b[0m\u001b[1;36m19\u001b[0m\u001b[1;33m,\u001b[0m \u001b[0mIO\u001b[0m\u001b[1;33m.\u001b[0m\u001b[0mOUT\u001b[0m\u001b[1;33m)\u001b[0m\u001b[1;33m\u001b[0m\u001b[1;33m\u001b[0m\u001b[0m\n\u001b[0;32m      3\u001b[0m \u001b[1;33m\u001b[0m\u001b[0m\n\u001b[0;32m      4\u001b[0m \u001b[0mp\u001b[0m \u001b[1;33m=\u001b[0m \u001b[0mIO\u001b[0m\u001b[1;33m.\u001b[0m\u001b[0mPWM\u001b[0m\u001b[1;33m(\u001b[0m\u001b[1;36m19\u001b[0m\u001b[1;33m,\u001b[0m \u001b[1;36m0.5\u001b[0m\u001b[1;33m)\u001b[0m \u001b[1;31m# channel, frequency\u001b[0m\u001b[1;33m\u001b[0m\u001b[1;33m\u001b[0m\u001b[0m\n\u001b[0;32m      5\u001b[0m \u001b[0mp\u001b[0m\u001b[1;33m.\u001b[0m\u001b[0mstart\u001b[0m\u001b[1;33m(\u001b[0m\u001b[1;36m1\u001b[0m\u001b[1;33m)\u001b[0m\u001b[1;33m\u001b[0m\u001b[1;33m\u001b[0m\u001b[0m\n",
      "\u001b[1;31mNameError\u001b[0m: name 'IO' is not defined"
     ]
    }
   ],
   "source": [
    "IO.setmode (IO.BCM)\n",
    "IO.setup(19, IO.OUT)\n",
    "\n",
    "p = IO.PWM(19, 0.5) # channel, frequency\n",
    "p.start(1)\n",
    "input('Press return to stop:')   # use raw_input for Python 2\n",
    "p.stop()\n",
    "IO.cleanup()"
   ]
  },
  {
   "cell_type": "markdown",
   "metadata": {},
   "source": [
    "### Brighten/dim an LED"
   ]
  },
  {
   "cell_type": "code",
   "execution_count": 9,
   "metadata": {},
   "outputs": [
    {
     "ename": "NameError",
     "evalue": "name 'IO' is not defined",
     "output_type": "error",
     "traceback": [
      "\u001b[1;31m---------------------------------------------------------------------------\u001b[0m",
      "\u001b[1;31mNameError\u001b[0m                                 Traceback (most recent call last)",
      "\u001b[1;32m<ipython-input-9-94fec14ea7c4>\u001b[0m in \u001b[0;36m<module>\u001b[1;34m\u001b[0m\n\u001b[1;32m----> 1\u001b[1;33m \u001b[0mIO\u001b[0m\u001b[1;33m.\u001b[0m\u001b[0msetmode\u001b[0m \u001b[1;33m(\u001b[0m\u001b[0mIO\u001b[0m\u001b[1;33m.\u001b[0m\u001b[0mBCM\u001b[0m\u001b[1;33m)\u001b[0m\u001b[1;33m\u001b[0m\u001b[1;33m\u001b[0m\u001b[0m\n\u001b[0m\u001b[0;32m      2\u001b[0m \u001b[0mIO\u001b[0m\u001b[1;33m.\u001b[0m\u001b[0msetup\u001b[0m\u001b[1;33m(\u001b[0m\u001b[1;36m21\u001b[0m\u001b[1;33m,\u001b[0m \u001b[0mIO\u001b[0m\u001b[1;33m.\u001b[0m\u001b[0mOUT\u001b[0m\u001b[1;33m)\u001b[0m\u001b[1;33m\u001b[0m\u001b[1;33m\u001b[0m\u001b[0m\n\u001b[0;32m      3\u001b[0m \u001b[0mp\u001b[0m \u001b[1;33m=\u001b[0m \u001b[0mIO\u001b[0m\u001b[1;33m.\u001b[0m\u001b[0mPWM\u001b[0m\u001b[1;33m(\u001b[0m\u001b[1;36m21\u001b[0m\u001b[1;33m,\u001b[0m \u001b[1;36m50\u001b[0m\u001b[1;33m)\u001b[0m  \u001b[1;31m# channel=12 frequency=50Hz\u001b[0m\u001b[1;33m\u001b[0m\u001b[1;33m\u001b[0m\u001b[0m\n\u001b[0;32m      4\u001b[0m \u001b[0mp\u001b[0m\u001b[1;33m.\u001b[0m\u001b[0mstart\u001b[0m\u001b[1;33m(\u001b[0m\u001b[1;36m0\u001b[0m\u001b[1;33m)\u001b[0m\u001b[1;33m\u001b[0m\u001b[1;33m\u001b[0m\u001b[0m\n\u001b[0;32m      5\u001b[0m \u001b[1;32mtry\u001b[0m\u001b[1;33m:\u001b[0m\u001b[1;33m\u001b[0m\u001b[1;33m\u001b[0m\u001b[0m\n",
      "\u001b[1;31mNameError\u001b[0m: name 'IO' is not defined"
     ]
    }
   ],
   "source": [
    "IO.setmode (IO.BCM)\n",
    "IO.setup(21, IO.OUT)\n",
    "p = IO.PWM(21, 50)  # channel=12 frequency=50Hz\n",
    "p.start(0)\n",
    "try:\n",
    "    while 1:\n",
    "        for dc in range(0, 101, 5):\n",
    "            p.ChangeDutyCycle(dc)\n",
    "            time.sleep(0.1)\n",
    "        for dc in range(100, -1, -5):\n",
    "            p.ChangeDutyCycle(dc)\n",
    "            time.sleep(0.1)\n",
    "except KeyboardInterrupt:\n",
    "    pass\n",
    "\n",
    "p.stop()\n",
    "IO.cleanup()\n"
   ]
  },
  {
   "cell_type": "markdown",
   "metadata": {},
   "source": [
    "### GUI dim light"
   ]
  },
  {
   "cell_type": "code",
   "execution_count": 10,
   "metadata": {},
   "outputs": [],
   "source": [
    "class LED:\n",
    "    def __init__(self, channel_out):\n",
    "        \n",
    "        self.channel = channel_out\n",
    "        IO.setmode (IO.BCM)\n",
    "        IO.setup(self.channel, IO.OUT)\n",
    "        self.frequency = 100\n",
    "        self.dc = 1 # duty cycle\n",
    "        self.p = None\n",
    "    \n",
    "    def setup(self):\n",
    "        top = tk.Tk()\n",
    "        mainframe = ttk.Frame(root, padding=\"10 10 12 12\")\n",
    "        mainframe.grid(column=0, row=0)#, sticky=(N, W, E, S))\n",
    "        mainframe.columnconfigure(0, weight=1)\n",
    "        mainframe.rowconfigure(0, weight=1)\n",
    "        \n",
    "        ttk.Button(mainframe, text =\"On\", command = self.on)\n",
    "        ttk.Button(mainframe, text =\"Off\", command = self.off)\n",
    "        ttk.Button(mainframe, text =\"Start\", command = self.blink)\n",
    "        ttk.Button(mainframe, text =\"dim\", command = self.dim)\n",
    "        ttk.Button(mainframe, text =\"Stop\", command = self.stop)\n",
    "        \n",
    "        variable1=tk.StringVar() # Value saved here\n",
    "\n",
    "        def search():\n",
    "            print(variable1.get())\n",
    "            return ''\n",
    "\n",
    "        G=ttk.Entry(top, width=7, textvariable=variable1)\n",
    "\n",
    "        H=ttk.Label(top, text=\"label\")\n",
    "\n",
    "        I=ttk.Button(top, text=\"Search\", command=search)\n",
    "\n",
    "   \n",
    "        variable1=tk.StringVar() # Value saved here\n",
    "\n",
    "        def search():\n",
    "            print(variable1.get())\n",
    "            return ''\n",
    "\n",
    "        ttk.Entry(mainframe, width=7, textvariable=variable1).grid(column=2, row=1)\n",
    "\n",
    "        ttk.Label(mainframe, text=\"label\").grid(column=1, row=1)\n",
    "\n",
    "        ttk.Button(mainframe, text=\"Search\", command=search).grid(column=2, row=13)\n",
    "\n",
    "        ttk.Button(mainframe, text =\"On\", command = search).grid(column=2, row=23)\n",
    "\n",
    "        root.mainloop()\n",
    "        \n",
    "        top.mainloop()\n",
    "    \n",
    "    def on(self):\n",
    "        IO.output(self.channel,IO.HIGH)\n",
    "\n",
    "    def off(self):\n",
    "        IO.output(self.channel,IO.LOW)\n",
    "    \n",
    "    def blink(self):\n",
    "        IO.setmode (IO.BCM)\n",
    "        if self.p is None:\n",
    "            self.p = IO.PWM(self.channel, self.frequency) # channel, frequency\n",
    "            self.p.start(self.dc)\n",
    "        else:\n",
    "            self.p = None\n",
    "            self.p = IO.PWM(self.channel, self.frequency) # channel, frequency\n",
    "            self.p.start(self.dc)\n",
    "        \n",
    "    def stop(self):\n",
    "        self.p.stop()\n",
    "        #IO.cleanup()\n",
    "    \n",
    "#     def dim(self):\n",
    "#         IO.setmode (IO.BCM)\n",
    "#         IO.setup(self.channel, IO.OUT)\n",
    "#         self.p = IO.PWM(self.channel, self.frequency)  # channel=12 frequency=50Hz\n",
    "#         self.p.start(self.dc)\n",
    "#         try:\n",
    "#             while 1:\n",
    "#                 for dc in range(0, 101, 5):\n",
    "#                     self.p.ChangeDutyCycle(dc)\n",
    "#                     time.sleep(0.1)\n",
    "#                 for dc in range(100, -1, -5):\n",
    "#                     self.p.ChangeDutyCycle(dc)\n",
    "#                     time.sleep(0.1)\n",
    "#         except KeyboardInterrupt:\n",
    "#             pass\n",
    "\n",
    "\n",
    "        \n",
    "        "
   ]
  },
  {
   "cell_type": "code",
   "execution_count": 11,
   "metadata": {},
   "outputs": [
    {
     "ename": "NameError",
     "evalue": "name 'IO' is not defined",
     "output_type": "error",
     "traceback": [
      "\u001b[1;31m---------------------------------------------------------------------------\u001b[0m",
      "\u001b[1;31mNameError\u001b[0m                                 Traceback (most recent call last)",
      "\u001b[1;32m<ipython-input-11-1fbd40871dc3>\u001b[0m in \u001b[0;36m<module>\u001b[1;34m\u001b[0m\n\u001b[1;32m----> 1\u001b[1;33m \u001b[0mld_21\u001b[0m\u001b[1;33m=\u001b[0m \u001b[0mLED\u001b[0m\u001b[1;33m(\u001b[0m\u001b[1;36m21\u001b[0m\u001b[1;33m)\u001b[0m\u001b[1;33m\u001b[0m\u001b[1;33m\u001b[0m\u001b[0m\n\u001b[0m",
      "\u001b[1;32m<ipython-input-10-060ad6786452>\u001b[0m in \u001b[0;36m__init__\u001b[1;34m(self, channel_out)\u001b[0m\n\u001b[0;32m      3\u001b[0m \u001b[1;33m\u001b[0m\u001b[0m\n\u001b[0;32m      4\u001b[0m         \u001b[0mself\u001b[0m\u001b[1;33m.\u001b[0m\u001b[0mchannel\u001b[0m \u001b[1;33m=\u001b[0m \u001b[0mchannel_out\u001b[0m\u001b[1;33m\u001b[0m\u001b[1;33m\u001b[0m\u001b[0m\n\u001b[1;32m----> 5\u001b[1;33m         \u001b[0mIO\u001b[0m\u001b[1;33m.\u001b[0m\u001b[0msetmode\u001b[0m \u001b[1;33m(\u001b[0m\u001b[0mIO\u001b[0m\u001b[1;33m.\u001b[0m\u001b[0mBCM\u001b[0m\u001b[1;33m)\u001b[0m\u001b[1;33m\u001b[0m\u001b[1;33m\u001b[0m\u001b[0m\n\u001b[0m\u001b[0;32m      6\u001b[0m         \u001b[0mIO\u001b[0m\u001b[1;33m.\u001b[0m\u001b[0msetup\u001b[0m\u001b[1;33m(\u001b[0m\u001b[0mself\u001b[0m\u001b[1;33m.\u001b[0m\u001b[0mchannel\u001b[0m\u001b[1;33m,\u001b[0m \u001b[0mIO\u001b[0m\u001b[1;33m.\u001b[0m\u001b[0mOUT\u001b[0m\u001b[1;33m)\u001b[0m\u001b[1;33m\u001b[0m\u001b[1;33m\u001b[0m\u001b[0m\n\u001b[0;32m      7\u001b[0m         \u001b[0mself\u001b[0m\u001b[1;33m.\u001b[0m\u001b[0mfrequency\u001b[0m \u001b[1;33m=\u001b[0m \u001b[1;36m100\u001b[0m\u001b[1;33m\u001b[0m\u001b[1;33m\u001b[0m\u001b[0m\n",
      "\u001b[1;31mNameError\u001b[0m: name 'IO' is not defined"
     ]
    }
   ],
   "source": [
    "ld_21= LED(21)"
   ]
  },
  {
   "cell_type": "code",
   "execution_count": 12,
   "metadata": {},
   "outputs": [
    {
     "ename": "NameError",
     "evalue": "name 'ld_21' is not defined",
     "output_type": "error",
     "traceback": [
      "\u001b[1;31m---------------------------------------------------------------------------\u001b[0m",
      "\u001b[1;31mNameError\u001b[0m                                 Traceback (most recent call last)",
      "\u001b[1;32m<ipython-input-12-7d83a4532c09>\u001b[0m in \u001b[0;36m<module>\u001b[1;34m\u001b[0m\n\u001b[1;32m----> 1\u001b[1;33m \u001b[0mld_21\u001b[0m\u001b[1;33m.\u001b[0m\u001b[0msetup\u001b[0m\u001b[1;33m(\u001b[0m\u001b[1;33m)\u001b[0m\u001b[1;33m\u001b[0m\u001b[1;33m\u001b[0m\u001b[0m\n\u001b[0m",
      "\u001b[1;31mNameError\u001b[0m: name 'ld_21' is not defined"
     ]
    }
   ],
   "source": [
    "ld_21.setup()"
   ]
  },
  {
   "cell_type": "code",
   "execution_count": 13,
   "metadata": {},
   "outputs": [
    {
     "ename": "NameError",
     "evalue": "name 'ld_21' is not defined",
     "output_type": "error",
     "traceback": [
      "\u001b[1;31m---------------------------------------------------------------------------\u001b[0m",
      "\u001b[1;31mNameError\u001b[0m                                 Traceback (most recent call last)",
      "\u001b[1;32m<ipython-input-13-e9176052d76a>\u001b[0m in \u001b[0;36m<module>\u001b[1;34m\u001b[0m\n\u001b[1;32m----> 1\u001b[1;33m \u001b[0mld_21\u001b[0m\u001b[1;33m.\u001b[0m\u001b[0mon\u001b[0m\u001b[1;33m(\u001b[0m\u001b[1;33m)\u001b[0m\u001b[1;33m\u001b[0m\u001b[1;33m\u001b[0m\u001b[0m\n\u001b[0m",
      "\u001b[1;31mNameError\u001b[0m: name 'ld_21' is not defined"
     ]
    }
   ],
   "source": [
    "ld_21.on()"
   ]
  },
  {
   "cell_type": "code",
   "execution_count": 14,
   "metadata": {},
   "outputs": [
    {
     "ename": "NameError",
     "evalue": "name 'ld_21' is not defined",
     "output_type": "error",
     "traceback": [
      "\u001b[1;31m---------------------------------------------------------------------------\u001b[0m",
      "\u001b[1;31mNameError\u001b[0m                                 Traceback (most recent call last)",
      "\u001b[1;32m<ipython-input-14-20b77dbeb522>\u001b[0m in \u001b[0;36m<module>\u001b[1;34m\u001b[0m\n\u001b[1;32m----> 1\u001b[1;33m \u001b[0mld_21\u001b[0m\u001b[1;33m.\u001b[0m\u001b[0moff\u001b[0m\u001b[1;33m(\u001b[0m\u001b[1;33m)\u001b[0m\u001b[1;33m\u001b[0m\u001b[1;33m\u001b[0m\u001b[0m\n\u001b[0m",
      "\u001b[1;31mNameError\u001b[0m: name 'ld_21' is not defined"
     ]
    }
   ],
   "source": [
    "ld_21.off()"
   ]
  },
  {
   "cell_type": "code",
   "execution_count": 15,
   "metadata": {},
   "outputs": [
    {
     "ename": "NameError",
     "evalue": "name 'ld_21' is not defined",
     "output_type": "error",
     "traceback": [
      "\u001b[1;31m---------------------------------------------------------------------------\u001b[0m",
      "\u001b[1;31mNameError\u001b[0m                                 Traceback (most recent call last)",
      "\u001b[1;32m<ipython-input-15-c7f2ad5eefd6>\u001b[0m in \u001b[0;36m<module>\u001b[1;34m\u001b[0m\n\u001b[1;32m----> 1\u001b[1;33m \u001b[0mld_21\u001b[0m\u001b[1;33m.\u001b[0m\u001b[0mblink\u001b[0m\u001b[1;33m(\u001b[0m\u001b[1;33m)\u001b[0m\u001b[1;33m\u001b[0m\u001b[1;33m\u001b[0m\u001b[0m\n\u001b[0m",
      "\u001b[1;31mNameError\u001b[0m: name 'ld_21' is not defined"
     ]
    }
   ],
   "source": [
    "ld_21.blink()\n"
   ]
  },
  {
   "cell_type": "code",
   "execution_count": 16,
   "metadata": {},
   "outputs": [
    {
     "ename": "NameError",
     "evalue": "name 'ld_21' is not defined",
     "output_type": "error",
     "traceback": [
      "\u001b[1;31m---------------------------------------------------------------------------\u001b[0m",
      "\u001b[1;31mNameError\u001b[0m                                 Traceback (most recent call last)",
      "\u001b[1;32m<ipython-input-16-0e4a6773721b>\u001b[0m in \u001b[0;36m<module>\u001b[1;34m\u001b[0m\n\u001b[1;32m----> 1\u001b[1;33m \u001b[0mld_21\u001b[0m\u001b[1;33m.\u001b[0m\u001b[0mstop\u001b[0m\u001b[1;33m(\u001b[0m\u001b[1;33m)\u001b[0m\u001b[1;33m\u001b[0m\u001b[1;33m\u001b[0m\u001b[0m\n\u001b[0m",
      "\u001b[1;31mNameError\u001b[0m: name 'ld_21' is not defined"
     ]
    }
   ],
   "source": [
    "ld_21.stop()"
   ]
  },
  {
   "cell_type": "code",
   "execution_count": 17,
   "metadata": {},
   "outputs": [
    {
     "ename": "NameError",
     "evalue": "name 'ld_21' is not defined",
     "output_type": "error",
     "traceback": [
      "\u001b[1;31m---------------------------------------------------------------------------\u001b[0m",
      "\u001b[1;31mNameError\u001b[0m                                 Traceback (most recent call last)",
      "\u001b[1;32m<ipython-input-17-ae892cfcb067>\u001b[0m in \u001b[0;36m<module>\u001b[1;34m\u001b[0m\n\u001b[1;32m----> 1\u001b[1;33m \u001b[0mld_21\u001b[0m\u001b[1;33m.\u001b[0m\u001b[0mdim\u001b[0m\u001b[1;33m(\u001b[0m\u001b[1;33m)\u001b[0m\u001b[1;33m\u001b[0m\u001b[1;33m\u001b[0m\u001b[0m\n\u001b[0m",
      "\u001b[1;31mNameError\u001b[0m: name 'ld_21' is not defined"
     ]
    }
   ],
   "source": [
    "ld_21.dim()"
   ]
  },
  {
   "cell_type": "code",
   "execution_count": 18,
   "metadata": {},
   "outputs": [
    {
     "ename": "NameError",
     "evalue": "name 'ld_21' is not defined",
     "output_type": "error",
     "traceback": [
      "\u001b[1;31m---------------------------------------------------------------------------\u001b[0m",
      "\u001b[1;31mNameError\u001b[0m                                 Traceback (most recent call last)",
      "\u001b[1;32m<ipython-input-18-8d048b8a7fc0>\u001b[0m in \u001b[0;36m<module>\u001b[1;34m\u001b[0m\n\u001b[1;32m----> 1\u001b[1;33m \u001b[0mld_21\u001b[0m\u001b[1;33m.\u001b[0m\u001b[0mdc\u001b[0m \u001b[1;33m=\u001b[0m \u001b[1;36m100\u001b[0m\u001b[1;33m\u001b[0m\u001b[1;33m\u001b[0m\u001b[0m\n\u001b[0m",
      "\u001b[1;31mNameError\u001b[0m: name 'ld_21' is not defined"
     ]
    }
   ],
   "source": [
    "ld_21.dc = 100"
   ]
  },
  {
   "cell_type": "code",
   "execution_count": 19,
   "metadata": {},
   "outputs": [],
   "source": [
    "class Press_Controller:\n",
    "    \n",
    "    def __init__(self, channel_out):\n",
    "        \n",
    "        self.channel = channel_out\n",
    "        IO.setmode (IO.BCM)\n",
    "        IO.setup(self.channel, IO.OUT)\n",
    "        self.frequency = 100\n",
    "        self.dc = 1 # duty cycle\n",
    "        self.p = None\n",
    "        self.active = None\n",
    "    \n",
    "    def on(self):\n",
    "        IO.output(self.channel,IO.HIGH)\n",
    "\n",
    "    def off(self):\n",
    "        IO.output(self.channel,IO.LOW)\n",
    "    \n",
    "    def PWM(self):\n",
    "        IO.setmode (IO.BCM)\n",
    "        if self.p is None:\n",
    "            self.p = IO.PWM(self.channel, self.frequency) # channel, frequency\n",
    "            self.p.start(self.dc)\n",
    "        else:\n",
    "            self.p = None\n",
    "            self.p = IO.PWM(self.channel, self.frequency) # channel, frequency\n",
    "            self.p.start(self.dc)\n",
    "        \n",
    "    def stop(self):\n",
    "        self.p.stop()\n",
    "        #IO.cleanup()\n",
    "\n",
    "class Dummy:\n",
    "    \n",
    "    def __init__(self, channel_out):\n",
    "        \n",
    "        self.channel = channel_out\n",
    "        \n",
    "        self.frequency = 100\n",
    "        self.dc = 1 # duty cycle\n",
    "        self.p = None\n",
    "        self.active = None\n",
    "    \n",
    "    def on(self):\n",
    "        print(\"Turn On LED\")\n",
    "\n",
    "    def off(self):\n",
    "        print(\"Turn Off LED\")\n",
    "    \n",
    "    def PWM(self):\n",
    "        print(\"Frequency:\", self.frequency, \"Duty Cycle:\", self.dc)\n",
    "        \n",
    "    def stop(self):\n",
    "        print(\"All Stop\")\n",
    "\n",
    "               "
   ]
  },
  {
   "cell_type": "code",
   "execution_count": 30,
   "metadata": {},
   "outputs": [],
   "source": [
    "class Interface:\n",
    "    \n",
    "    def __init__(self, Pulse_channel_out = 13, Enable_channel_out = 15, Dir_channel_out = 14, Active_channel_out = 15, is_Dummy = False ):\n",
    "        if is_Dummy:\n",
    "            self.pulse = Dummy(Pulse_channel_out)\n",
    "            self.enable = Dummy(Enable_channel_out)\n",
    "            self.dir = Dummy(Dir_channel_out)\n",
    "            self.active = Dummy(Active_channel_out)\n",
    "        else:\n",
    "            self.pulse = Press_Controller(Pulse_channel_out)\n",
    "            self.enable = Press_Controller(Enable_channel_out)\n",
    "            self.dir = Press_Controller(Dir_channel_out)\n",
    "            self.active = Press_Controller(Active_channel_out)\n",
    "            \n",
    "    def setup(self):\n",
    "        \n",
    "        root=tk.Tk()\n",
    "\n",
    "        mainframe = ttk.Frame(root, padding=\"50 50 50 50\")\n",
    "        mainframe.grid(column=0, row=0)\n",
    "        mainframe.columnconfigure(0, weight=1)\n",
    "        mainframe.rowconfigure(0, weight=1)\n",
    "\n",
    "        fq=tk.IntVar(value = 1) # Value saved here\n",
    "        dc = tk.IntVar(value = 50)\n",
    "        \n",
    "        def frequency():\n",
    "            print(self.pulse.frequency)\n",
    "            self.pulse.frequency = fq.get()\n",
    "            print(self.pulse.frequency)\n",
    "        \n",
    "        def duty_cycle():\n",
    "            print(self.pulse.dc)\n",
    "            self.pulse.dc = dc.get()\n",
    "            print(self.pulse.dc)\n",
    "            \n",
    "        ttk.Label(mainframe, text=\"Pulse\").grid(column=1, row=1)\n",
    "        ttk.Button(mainframe, text=\"On\", command=self.pulse.on).grid(column=1, row=2)\n",
    "        ttk.Button(mainframe, text =\"Off\", command = self.pulse.off).grid(column=2, row=2)\n",
    "        \n",
    "        ttk.Label(mainframe, text=\"Enable\").grid(column=1, row=3)\n",
    "        ttk.Button(mainframe, text=\"On\", command=self.enable.on).grid(column=1, row=4)\n",
    "        ttk.Button(mainframe, text =\"Off\", command = self.enable.off).grid(column=2, row=4)\n",
    "        \n",
    "        ttk.Label(mainframe, text=\"Direction\").grid(column=1, row=5)\n",
    "        ttk.Button(mainframe, text=\"Left(CCW)\", command=self.dir.on).grid(column=1, row=6)\n",
    "        ttk.Button(mainframe, text =\"Right(CW)\", command = self.dir.off).grid(column=2, row=6)\n",
    "        \n",
    "        ttk.Label(mainframe, text=\"Frequency Pulse\").grid(column=5, row=1)  \n",
    "        ttk.Entry(mainframe, width=15, textvariable=fq).grid(column=5, row=2)\n",
    "        ttk.Button(mainframe, text=\"Freq\", command=frequency).grid(column=6, row=2)\n",
    "        \n",
    "        ttk.Label(mainframe, text=\"Duty_Cycle\").grid(column=5, row=3)  \n",
    "        ttk.Entry(mainframe, width=15, textvariable=dc).grid(column=5, row=4)\n",
    "        ttk.Button(mainframe, text=\"DC\", command=duty_cycle).grid(column=6, row=4)\n",
    "        \n",
    "        ttk.Label(mainframe, text=\"label\").grid(column=1, row=1)\n",
    "        ttk.Button(mainframe, text=\"Search\", command=frequency).grid(column=2, row=13)\n",
    "        ttk.Button(mainframe, text =\"On\", command = frequency).grid(column=2, row=23)\n",
    "\n",
    "        root.mainloop()"
   ]
  },
  {
   "cell_type": "code",
   "execution_count": null,
   "metadata": {},
   "outputs": [],
   "source": [
    "IN = Interface(is_Dummy = True)\n",
    "IN.setup()"
   ]
  },
  {
   "cell_type": "code",
   "execution_count": 32,
   "metadata": {},
   "outputs": [
    {
     "ename": "AttributeError",
     "evalue": "module 'tkinter' has no attribute 'CustomButton'",
     "output_type": "error",
     "traceback": [
      "\u001b[1;31m---------------------------------------------------------------------------\u001b[0m",
      "\u001b[1;31mAttributeError\u001b[0m                            Traceback (most recent call last)",
      "\u001b[1;32m<ipython-input-32-edef61725591>\u001b[0m in \u001b[0;36m<module>\u001b[1;34m\u001b[0m\n\u001b[0;32m      1\u001b[0m \u001b[0mapp\u001b[0m \u001b[1;33m=\u001b[0m \u001b[0mtk\u001b[0m\u001b[1;33m.\u001b[0m\u001b[0mTk\u001b[0m\u001b[1;33m(\u001b[0m\u001b[1;33m)\u001b[0m\u001b[1;33m\u001b[0m\u001b[1;33m\u001b[0m\u001b[0m\n\u001b[1;32m----> 2\u001b[1;33m \u001b[0mbutton\u001b[0m \u001b[1;33m=\u001b[0m \u001b[0mtk\u001b[0m\u001b[1;33m.\u001b[0m\u001b[0mCustomButton\u001b[0m\u001b[1;33m(\u001b[0m\u001b[0mapp\u001b[0m\u001b[1;33m,\u001b[0m \u001b[1;36m100\u001b[0m\u001b[1;33m,\u001b[0m \u001b[1;36m25\u001b[0m\u001b[1;33m,\u001b[0m \u001b[1;34m'red'\u001b[0m\u001b[1;33m)\u001b[0m\u001b[1;33m\u001b[0m\u001b[1;33m\u001b[0m\u001b[0m\n\u001b[0m\u001b[0;32m      3\u001b[0m \u001b[0mbutton\u001b[0m\u001b[1;33m.\u001b[0m\u001b[0mpack\u001b[0m\u001b[1;33m(\u001b[0m\u001b[1;33m)\u001b[0m\u001b[1;33m\u001b[0m\u001b[1;33m\u001b[0m\u001b[0m\n\u001b[0;32m      4\u001b[0m \u001b[0mapp\u001b[0m\u001b[1;33m.\u001b[0m\u001b[0mmainloop\u001b[0m\u001b[1;33m(\u001b[0m\u001b[1;33m)\u001b[0m\u001b[1;33m\u001b[0m\u001b[1;33m\u001b[0m\u001b[0m\n",
      "\u001b[1;31mAttributeError\u001b[0m: module 'tkinter' has no attribute 'CustomButton'"
     ]
    }
   ],
   "source": [
    "app = tk.Tk()\n",
    "button = tk.CustomButton(app, 100, 25, 'red')\n",
    "button.pack()\n",
    "app.mainloop()"
   ]
  },
  {
   "cell_type": "code",
   "execution_count": null,
   "metadata": {},
   "outputs": [],
   "source": [
    "IN.pulse.frequency"
   ]
  },
  {
   "cell_type": "code",
   "execution_count": null,
   "metadata": {},
   "outputs": [],
   "source": [
    "app = tk.Tk()\n",
    "button = tk.Radiobutton(app)\n",
    "button.pack()\n",
    "app.mainloop()\n"
   ]
  },
  {
   "cell_type": "markdown",
   "metadata": {},
   "source": [
    "### Arduino - Raspberri connection - NOT WORKING\n",
    "\n"
   ]
  },
  {
   "cell_type": "code",
   "execution_count": null,
   "metadata": {},
   "outputs": [],
   "source": [
    "import serial\n",
    "import RPi.GPIO as GPIO\n",
    "import time"
   ]
  },
  {
   "cell_type": "code",
   "execution_count": null,
   "metadata": {},
   "outputs": [],
   "source": [
    "ser=serial.Serial(\"/dev/ttyACM0\",9600)  #change ACM number as found from ls /dev/tty/ACM*\n",
    "ser.baudrate=9600\n",
    "def blink(pin):\n",
    "\n",
    "\n",
    "GPIO.output(pin,GPIO.HIGH)  \n",
    "time.sleep(1)  \n",
    "GPIO.output(pin,GPIO.LOW)  \n",
    "time.sleep(1)  \n",
    "return\n",
    "\n",
    "GPIO.setmode(GPIO.BOARD)\n",
    "GPIO.setup(11, GPIO.OUT)\n",
    "while True:\n",
    "\n",
    "read_ser=ser.readline()\n",
    "print(read_ser)\n",
    "if(read_ser==\"Hello From Arduino!\"):\n",
    "blink(11)"
   ]
  },
  {
   "cell_type": "markdown",
   "metadata": {},
   "source": [
    "### Run python script"
   ]
  },
  {
   "cell_type": "code",
   "execution_count": null,
   "metadata": {},
   "outputs": [],
   "source": [
    "import Press_Controller as ps"
   ]
  },
  {
   "cell_type": "code",
   "execution_count": 2,
   "metadata": {},
   "outputs": [],
   "source": [
    "start = ps.Interface()"
   ]
  },
  {
   "cell_type": "code",
   "execution_count": 3,
   "metadata": {},
   "outputs": [
    {
     "name": "stdout",
     "output_type": "stream",
     "text": [
      "Turn Off LED\n",
      "Turn On LED\n",
      "100\n",
      "1\n",
      "50\n",
      "50\n",
      "Turn Off LED\n",
      "Turn On LED\n",
      "Turn On LED\n",
      "Turn Off LED\n"
     ]
    }
   ],
   "source": [
    "start.setup()"
   ]
  },
  {
   "cell_type": "code",
   "execution_count": null,
   "metadata": {},
   "outputs": [],
   "source": []
  }
 ],
 "metadata": {
  "kernelspec": {
   "display_name": "Python 3",
   "language": "python",
   "name": "python3"
  },
  "language_info": {
   "codemirror_mode": {
    "name": "ipython",
    "version": 3
   },
   "file_extension": ".py",
   "mimetype": "text/x-python",
   "name": "python",
   "nbconvert_exporter": "python",
   "pygments_lexer": "ipython3",
   "version": "3.7.4"
  }
 },
 "nbformat": 4,
 "nbformat_minor": 4
}
