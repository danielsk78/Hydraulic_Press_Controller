{
 "cells": [
  {
   "cell_type": "code",
   "execution_count": 1,
   "metadata": {},
   "outputs": [
    {
     "name": "stdout",
     "output_type": "stream",
     "text": [
      "RPi.GPIO only available for Raspberry Pi, use Dummy\n",
      "hx711 not installed\n"
     ]
    }
   ],
   "source": [
    "import sys,os\n",
    "sys.path.append('../Press_Controller/')\n",
    "import Press_Controller as PS"
   ]
  },
  {
   "cell_type": "code",
   "execution_count": 2,
   "metadata": {},
   "outputs": [],
   "source": [
    "start = PS.Interface()"
   ]
  },
  {
   "cell_type": "code",
   "execution_count": null,
   "metadata": {},
   "outputs": [
    {
     "name": "stdout",
     "output_type": "stream",
     "text": [
      "Thread started or resumed...\n"
     ]
    },
    {
     "name": "stderr",
     "output_type": "stream",
     "text": [
      "Exception in Tkinter callback\n",
      "Traceback (most recent call last):\n",
      "  File \"C:\\Anaconda3\\lib\\tkinter\\__init__.py\", line 1705, in __call__\n",
      "    return self.func(*args)\n",
      "  File \"../Press_Controller\\Press_Controller.py\", line 488, in save_data\n",
      "    self.df.to_csv(file_dir, index=False)\n",
      "  File \"C:\\Anaconda3\\lib\\site-packages\\pandas\\core\\generic.py\", line 3204, in to_csv\n",
      "    formatter.save()\n",
      "  File \"C:\\Anaconda3\\lib\\site-packages\\pandas\\io\\formats\\csvs.py\", line 188, in save\n",
      "    compression=dict(self.compression_args, method=self.compression),\n",
      "  File \"C:\\Anaconda3\\lib\\site-packages\\pandas\\io\\common.py\", line 428, in get_handle\n",
      "    f = open(path_or_buf, mode, encoding=encoding, newline=\"\")\n",
      "FileNotFoundError: [Errno 2] No such file or directory: './Recordings/28042020_1315.csv'\n"
     ]
    },
    {
     "name": "stdout",
     "output_type": "stream",
     "text": [
      "Thread started or resumed...\n",
      "Recording data every: 2 seconds\n",
      "Thread already running.\n",
      "Recording data every: 2 seconds\n",
      "Thread already running.\n",
      "Recording data every: 3 seconds\n",
      "Data saved in: D:/Documents/Git_Projects/Hydraulic_Press_Controller_RPi/Recordings/28042020_1317.csv\n"
     ]
    }
   ],
   "source": [
    "start.setup()"
   ]
  },
  {
   "cell_type": "code",
   "execution_count": null,
   "metadata": {},
   "outputs": [],
   "source": [
    "start."
   ]
  },
  {
   "cell_type": "code",
   "execution_count": 7,
   "metadata": {},
   "outputs": [],
   "source": [
    "import tkinter as tk\n",
    "from tkinter import filedialog"
   ]
  },
  {
   "cell_type": "code",
   "execution_count": 11,
   "metadata": {},
   "outputs": [],
   "source": [
    "dir_name = filedialog.askdirectory()\n"
   ]
  },
  {
   "cell_type": "code",
   "execution_count": 12,
   "metadata": {},
   "outputs": [
    {
     "data": {
      "text/plain": [
       "'D:/Documents/Insanity'"
      ]
     },
     "execution_count": 12,
     "metadata": {},
     "output_type": "execute_result"
    }
   ],
   "source": [
    "dir_name"
   ]
  },
  {
   "cell_type": "code",
   "execution_count": null,
   "metadata": {},
   "outputs": [],
   "source": []
  }
 ],
 "metadata": {
  "kernelspec": {
   "display_name": "Python 3",
   "language": "python",
   "name": "python3"
  },
  "language_info": {
   "codemirror_mode": {
    "name": "ipython",
    "version": 3
   },
   "file_extension": ".py",
   "mimetype": "text/x-python",
   "name": "python",
   "nbconvert_exporter": "python",
   "pygments_lexer": "ipython3",
   "version": "3.7.6"
  }
 },
 "nbformat": 4,
 "nbformat_minor": 4
}
