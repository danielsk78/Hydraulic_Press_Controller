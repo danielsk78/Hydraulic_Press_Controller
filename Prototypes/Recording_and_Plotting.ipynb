{
 "cells": [
  {
   "cell_type": "code",
   "execution_count": 1,
   "metadata": {},
   "outputs": [
    {
     "name": "stdout",
     "output_type": "stream",
     "text": [
      "RPi.GPIO only available for Raspberry Pi, use Dummy\n",
      "hx711 not installed\n"
     ]
    }
   ],
   "source": [
    "import sys,os\n",
    "current = os.getcwd()\n",
    "os.chdir('../Press_Controller')\n",
    "sys.path.append(os.getcwd())\n",
    "os.chdir(current)\n",
    "import Press_Controller as ps"
   ]
  },
  {
   "cell_type": "code",
   "execution_count": 2,
   "metadata": {},
   "outputs": [],
   "source": [
    "import time\n",
    "import pandas as pd\n",
    "import numpy as np"
   ]
  },
  {
   "cell_type": "code",
   "execution_count": 3,
   "metadata": {},
   "outputs": [
    {
     "data": {
      "image/png": "[encoded data removed]",
      "text/plain": [
       "<Figure size 432x288 with 1 Axes>"
      ]
     },
     "metadata": {
      "needs_background": "light"
     },
     "output_type": "display_data"
    }
   ],
   "source": [
    "start = ps.Interface()"
   ]
  },
  {
   "cell_type": "code",
   "execution_count": null,
   "metadata": {},
   "outputs": [
    {
     "name": "stdout",
     "output_type": "stream",
     "text": [
      "Thread started or resumed...\n",
      "force to apply: 0\n",
      "Thread started or resumed...\n",
      "Recording data every: 10 seconds\n"
     ]
    }
   ],
   "source": [
    "start.setup()"
   ]
  },
  {
   "cell_type": "code",
   "execution_count": 5,
   "metadata": {},
   "outputs": [
    {
     "name": "stderr",
     "output_type": "stream",
     "text": [
      "Exception in thread Thread-6:\n",
      "Traceback (most recent call last):\n",
      "  File \"C:\\Anaconda3\\lib\\threading.py\", line 926, in _bootstrap_inner\n",
      "    self.run()\n",
      "  File \"C:\\Anaconda3\\lib\\threading.py\", line 870, in run\n",
      "    self._target(*self._args, **self._kwargs)\n",
      "  File \"D:\\Documents\\Git_Projects\\Hydraulic_Press_Controller_RPi\\Press_Controller\\Press_Controller.py\", line 259, in thread_loop\n",
      "    self.update()\n",
      "  File \"D:\\Documents\\Git_Projects\\Hydraulic_Press_Controller_RPi\\Press_Controller\\Press_Controller.py\", line 391, in update\n",
      "    self.lbl.configure(text=str(val))\n",
      "  File \"C:\\Anaconda3\\lib\\tkinter\\__init__.py\", line 1485, in configure\n",
      "    return self._configure('configure', cnf, kw)\n",
      "  File \"C:\\Anaconda3\\lib\\tkinter\\__init__.py\", line 1476, in _configure\n",
      "    self.tk.call(_flatten((self._w, cmd)) + self._options(cnf))\n",
      "RuntimeError: main thread is not in main loop\n",
      "\n"
     ]
    },
    {
     "data": {
      "text/html": [
       "<div>\n",
       "<style scoped>\n",
       "    .dataframe tbody tr th:only-of-type {\n",
       "        vertical-align: middle;\n",
       "    }\n",
       "\n",
       "    .dataframe tbody tr th {\n",
       "        vertical-align: top;\n",
       "    }\n",
       "\n",
       "    .dataframe thead th {\n",
       "        text-align: right;\n",
       "    }\n",
       "</style>\n",
       "<table border=\"1\" class=\"dataframe\">\n",
       "  <thead>\n",
       "    <tr style=\"text-align: right;\">\n",
       "      <th></th>\n",
       "      <th>Force_kN</th>\n",
       "      <th>Time_sec</th>\n",
       "      <th>Date</th>\n",
       "    </tr>\n",
       "  </thead>\n",
       "  <tbody>\n",
       "    <tr>\n",
       "      <th>0</th>\n",
       "      <td>0.000119</td>\n",
       "      <td>0.000002</td>\n",
       "      <td>Mon Mar 30 00:50:35 2020</td>\n",
       "    </tr>\n",
       "    <tr>\n",
       "      <th>1</th>\n",
       "      <td>0.000304</td>\n",
       "      <td>1.504542</td>\n",
       "      <td>Mon Mar 30 00:50:37 2020</td>\n",
       "    </tr>\n",
       "    <tr>\n",
       "      <th>2</th>\n",
       "      <td>0.000429</td>\n",
       "      <td>3.013722</td>\n",
       "      <td>Mon Mar 30 00:50:38 2020</td>\n",
       "    </tr>\n",
       "    <tr>\n",
       "      <th>3</th>\n",
       "      <td>0.000495</td>\n",
       "      <td>4.519553</td>\n",
       "      <td>Mon Mar 30 00:50:40 2020</td>\n",
       "    </tr>\n",
       "    <tr>\n",
       "      <th>4</th>\n",
       "      <td>0.000530</td>\n",
       "      <td>6.028974</td>\n",
       "      <td>Mon Mar 30 00:50:41 2020</td>\n",
       "    </tr>\n",
       "    <tr>\n",
       "      <th>5</th>\n",
       "      <td>0.000048</td>\n",
       "      <td>7.535391</td>\n",
       "      <td>Mon Mar 30 00:50:43 2020</td>\n",
       "    </tr>\n",
       "    <tr>\n",
       "      <th>6</th>\n",
       "      <td>0.000578</td>\n",
       "      <td>9.041159</td>\n",
       "      <td>Mon Mar 30 00:50:44 2020</td>\n",
       "    </tr>\n",
       "    <tr>\n",
       "      <th>7</th>\n",
       "      <td>0.000006</td>\n",
       "      <td>10.544295</td>\n",
       "      <td>Mon Mar 30 00:50:46 2020</td>\n",
       "    </tr>\n",
       "    <tr>\n",
       "      <th>8</th>\n",
       "      <td>0.000495</td>\n",
       "      <td>12.048266</td>\n",
       "      <td>Mon Mar 30 00:50:47 2020</td>\n",
       "    </tr>\n",
       "    <tr>\n",
       "      <th>9</th>\n",
       "      <td>0.000203</td>\n",
       "      <td>13.552312</td>\n",
       "      <td>Mon Mar 30 00:50:49 2020</td>\n",
       "    </tr>\n",
       "    <tr>\n",
       "      <th>10</th>\n",
       "      <td>0.000328</td>\n",
       "      <td>15.057762</td>\n",
       "      <td>Mon Mar 30 00:50:50 2020</td>\n",
       "    </tr>\n",
       "    <tr>\n",
       "      <th>11</th>\n",
       "      <td>0.000423</td>\n",
       "      <td>16.563388</td>\n",
       "      <td>Mon Mar 30 00:50:52 2020</td>\n",
       "    </tr>\n",
       "    <tr>\n",
       "      <th>12</th>\n",
       "      <td>0.000352</td>\n",
       "      <td>22.445759</td>\n",
       "      <td>Mon Mar 30 00:50:57 2020</td>\n",
       "    </tr>\n",
       "    <tr>\n",
       "      <th>13</th>\n",
       "      <td>0.000352</td>\n",
       "      <td>23.949745</td>\n",
       "      <td>Mon Mar 30 00:50:59 2020</td>\n",
       "    </tr>\n",
       "    <tr>\n",
       "      <th>14</th>\n",
       "      <td>0.000525</td>\n",
       "      <td>25.454469</td>\n",
       "      <td>Mon Mar 30 00:51:00 2020</td>\n",
       "    </tr>\n",
       "    <tr>\n",
       "      <th>15</th>\n",
       "      <td>0.000024</td>\n",
       "      <td>26.957845</td>\n",
       "      <td>Mon Mar 30 00:51:02 2020</td>\n",
       "    </tr>\n",
       "    <tr>\n",
       "      <th>16</th>\n",
       "      <td>0.000429</td>\n",
       "      <td>28.462228</td>\n",
       "      <td>Mon Mar 30 00:51:04 2020</td>\n",
       "    </tr>\n",
       "    <tr>\n",
       "      <th>17</th>\n",
       "      <td>0.000042</td>\n",
       "      <td>29.965413</td>\n",
       "      <td>Mon Mar 30 00:51:05 2020</td>\n",
       "    </tr>\n",
       "    <tr>\n",
       "      <th>18</th>\n",
       "      <td>0.000149</td>\n",
       "      <td>31.469924</td>\n",
       "      <td>Mon Mar 30 00:51:07 2020</td>\n",
       "    </tr>\n",
       "    <tr>\n",
       "      <th>19</th>\n",
       "      <td>0.000012</td>\n",
       "      <td>32.974029</td>\n",
       "      <td>Mon Mar 30 00:51:08 2020</td>\n",
       "    </tr>\n",
       "    <tr>\n",
       "      <th>20</th>\n",
       "      <td>0.000387</td>\n",
       "      <td>34.477482</td>\n",
       "      <td>Mon Mar 30 00:51:10 2020</td>\n",
       "    </tr>\n",
       "  </tbody>\n",
       "</table>\n",
       "</div>"
      ],
      "text/plain": [
       "    Force_kN   Time_sec                      Date\n",
       "0   0.000119   0.000002  Mon Mar 30 00:50:35 2020\n",
       "1   0.000304   1.504542  Mon Mar 30 00:50:37 2020\n",
       "2   0.000429   3.013722  Mon Mar 30 00:50:38 2020\n",
       "3   0.000495   4.519553  Mon Mar 30 00:50:40 2020\n",
       "4   0.000530   6.028974  Mon Mar 30 00:50:41 2020\n",
       "5   0.000048   7.535391  Mon Mar 30 00:50:43 2020\n",
       "6   0.000578   9.041159  Mon Mar 30 00:50:44 2020\n",
       "7   0.000006  10.544295  Mon Mar 30 00:50:46 2020\n",
       "8   0.000495  12.048266  Mon Mar 30 00:50:47 2020\n",
       "9   0.000203  13.552312  Mon Mar 30 00:50:49 2020\n",
       "10  0.000328  15.057762  Mon Mar 30 00:50:50 2020\n",
       "11  0.000423  16.563388  Mon Mar 30 00:50:52 2020\n",
       "12  0.000352  22.445759  Mon Mar 30 00:50:57 2020\n",
       "13  0.000352  23.949745  Mon Mar 30 00:50:59 2020\n",
       "14  0.000525  25.454469  Mon Mar 30 00:51:00 2020\n",
       "15  0.000024  26.957845  Mon Mar 30 00:51:02 2020\n",
       "16  0.000429  28.462228  Mon Mar 30 00:51:04 2020\n",
       "17  0.000042  29.965413  Mon Mar 30 00:51:05 2020\n",
       "18  0.000149  31.469924  Mon Mar 30 00:51:07 2020\n",
       "19  0.000012  32.974029  Mon Mar 30 00:51:08 2020\n",
       "20  0.000387  34.477482  Mon Mar 30 00:51:10 2020"
      ]
     },
     "execution_count": 5,
     "metadata": {},
     "output_type": "execute_result"
    }
   ],
   "source": [
    "start.df"
   ]
  },
  {
   "cell_type": "code",
   "execution_count": null,
   "metadata": {},
   "outputs": [],
   "source": [
    "time.ctime()"
   ]
  },
  {
   "cell_type": "code",
   "execution_count": null,
   "metadata": {},
   "outputs": [],
   "source": [
    "labels = {\"Date\", \"Force_kN\"}\n",
    "df = pd.DataFrame(columns=labels)"
   ]
  },
  {
   "cell_type": "code",
   "execution_count": null,
   "metadata": {},
   "outputs": [],
   "source": [
    "force = np.random.rand()\n",
    "df_temp = pd.DataFrame({\"Date\": [time.ctime()], \"Force_kN\": [force]})\n",
    "df = pd.concat([df, df_temp], ignore_index=True)"
   ]
  },
  {
   "cell_type": "code",
   "execution_count": 67,
   "metadata": {},
   "outputs": [
    {
     "data": {
      "text/plain": [
       "13"
      ]
     },
     "execution_count": 67,
     "metadata": {},
     "output_type": "execute_result"
    }
   ],
   "source": [
    "np.random.randint(100)"
   ]
  },
  {
   "cell_type": "code",
   "execution_count": null,
   "metadata": {},
   "outputs": [],
   "source": []
  },
  {
   "cell_type": "code",
   "execution_count": null,
   "metadata": {},
   "outputs": [],
   "source": [
    "a =time.time()"
   ]
  },
  {
   "cell_type": "code",
   "execution_count": null,
   "metadata": {},
   "outputs": [],
   "source": [
    "b= time.time()-a"
   ]
  },
  {
   "cell_type": "code",
   "execution_count": null,
   "metadata": {},
   "outputs": [],
   "source": [
    "b"
   ]
  },
  {
   "cell_type": "code",
   "execution_count": null,
   "metadata": {},
   "outputs": [],
   "source": [
    "time.perf_counter()"
   ]
  },
  {
   "cell_type": "code",
   "execution_count": null,
   "metadata": {},
   "outputs": [],
   "source": [
    "time.perf_counter()"
   ]
  },
  {
   "cell_type": "code",
   "execution_count": null,
   "metadata": {},
   "outputs": [],
   "source": [
    "time.time()"
   ]
  },
  {
   "cell_type": "code",
   "execution_count": null,
   "metadata": {},
   "outputs": [],
   "source": [
    "x = True\n",
    "init = time.perf_counter()\n",
    "while x:\n",
    "    a = init-time.perf_counter()\n",
    "    if  a==4:\n",
    "        x = False\n",
    "        print(\"time is:\",a)\n",
    "    "
   ]
  },
  {
   "cell_type": "code",
   "execution_count": null,
   "metadata": {},
   "outputs": [],
   "source": [
    "import threading"
   ]
  },
  {
   "cell_type": "code",
   "execution_count": null,
   "metadata": {},
   "outputs": [],
   "source": [
    "a = threading.Lock()"
   ]
  },
  {
   "cell_type": "code",
   "execution_count": null,
   "metadata": {},
   "outputs": [],
   "source": [
    "b = threading.Lock()"
   ]
  },
  {
   "cell_type": "code",
   "execution_count": null,
   "metadata": {},
   "outputs": [],
   "source": [
    "threading.Thread()"
   ]
  },
  {
   "cell_type": "code",
   "execution_count": 7,
   "metadata": {},
   "outputs": [],
   "source": [
    "x = start.df"
   ]
  },
  {
   "cell_type": "code",
   "execution_count": 8,
   "metadata": {},
   "outputs": [
    {
     "data": {
      "text/html": [
       "<div>\n",
       "<style scoped>\n",
       "    .dataframe tbody tr th:only-of-type {\n",
       "        vertical-align: middle;\n",
       "    }\n",
       "\n",
       "    .dataframe tbody tr th {\n",
       "        vertical-align: top;\n",
       "    }\n",
       "\n",
       "    .dataframe thead th {\n",
       "        text-align: right;\n",
       "    }\n",
       "</style>\n",
       "<table border=\"1\" class=\"dataframe\">\n",
       "  <thead>\n",
       "    <tr style=\"text-align: right;\">\n",
       "      <th></th>\n",
       "      <th>Time_sec</th>\n",
       "      <th>Date</th>\n",
       "      <th>Force_kN</th>\n",
       "    </tr>\n",
       "  </thead>\n",
       "  <tbody>\n",
       "    <tr>\n",
       "      <th>0</th>\n",
       "      <td>0.500487</td>\n",
       "      <td>Mon Mar 30 00:33:50 2020</td>\n",
       "      <td>0.000376</td>\n",
       "    </tr>\n",
       "    <tr>\n",
       "      <th>1</th>\n",
       "      <td>4.006310</td>\n",
       "      <td>Mon Mar 30 00:33:54 2020</td>\n",
       "      <td>0.000280</td>\n",
       "    </tr>\n",
       "    <tr>\n",
       "      <th>2</th>\n",
       "      <td>7.511758</td>\n",
       "      <td>Mon Mar 30 00:33:57 2020</td>\n",
       "      <td>0.000203</td>\n",
       "    </tr>\n",
       "    <tr>\n",
       "      <th>3</th>\n",
       "      <td>11.016299</td>\n",
       "      <td>Mon Mar 30 00:34:01 2020</td>\n",
       "      <td>0.000221</td>\n",
       "    </tr>\n",
       "    <tr>\n",
       "      <th>4</th>\n",
       "      <td>14.521450</td>\n",
       "      <td>Mon Mar 30 00:34:04 2020</td>\n",
       "      <td>0.000334</td>\n",
       "    </tr>\n",
       "    <tr>\n",
       "      <th>...</th>\n",
       "      <td>...</td>\n",
       "      <td>...</td>\n",
       "      <td>...</td>\n",
       "    </tr>\n",
       "    <tr>\n",
       "      <th>123</th>\n",
       "      <td>433.682192</td>\n",
       "      <td>Mon Mar 30 00:41:03 2020</td>\n",
       "      <td>0.000060</td>\n",
       "    </tr>\n",
       "    <tr>\n",
       "      <th>124</th>\n",
       "      <td>437.190416</td>\n",
       "      <td>Mon Mar 30 00:41:07 2020</td>\n",
       "      <td>0.000495</td>\n",
       "    </tr>\n",
       "    <tr>\n",
       "      <th>125</th>\n",
       "      <td>440.696309</td>\n",
       "      <td>Mon Mar 30 00:41:10 2020</td>\n",
       "      <td>0.000185</td>\n",
       "    </tr>\n",
       "    <tr>\n",
       "      <th>126</th>\n",
       "      <td>444.205541</td>\n",
       "      <td>Mon Mar 30 00:41:14 2020</td>\n",
       "      <td>0.000501</td>\n",
       "    </tr>\n",
       "    <tr>\n",
       "      <th>127</th>\n",
       "      <td>447.711653</td>\n",
       "      <td>Mon Mar 30 00:41:17 2020</td>\n",
       "      <td>0.000417</td>\n",
       "    </tr>\n",
       "  </tbody>\n",
       "</table>\n",
       "<p>128 rows × 3 columns</p>\n",
       "</div>"
      ],
      "text/plain": [
       "       Time_sec                      Date  Force_kN\n",
       "0      0.500487  Mon Mar 30 00:33:50 2020  0.000376\n",
       "1      4.006310  Mon Mar 30 00:33:54 2020  0.000280\n",
       "2      7.511758  Mon Mar 30 00:33:57 2020  0.000203\n",
       "3     11.016299  Mon Mar 30 00:34:01 2020  0.000221\n",
       "4     14.521450  Mon Mar 30 00:34:04 2020  0.000334\n",
       "..          ...                       ...       ...\n",
       "123  433.682192  Mon Mar 30 00:41:03 2020  0.000060\n",
       "124  437.190416  Mon Mar 30 00:41:07 2020  0.000495\n",
       "125  440.696309  Mon Mar 30 00:41:10 2020  0.000185\n",
       "126  444.205541  Mon Mar 30 00:41:14 2020  0.000501\n",
       "127  447.711653  Mon Mar 30 00:41:17 2020  0.000417\n",
       "\n",
       "[128 rows x 3 columns]"
      ]
     },
     "execution_count": 8,
     "metadata": {},
     "output_type": "execute_result"
    }
   ],
   "source": []
  },
  {
   "cell_type": "code",
   "execution_count": null,
   "metadata": {},
   "outputs": [],
   "source": []
  }
 ],
 "metadata": {
  "kernelspec": {
   "display_name": "Python 3",
   "language": "python",
   "name": "python3"
  },
  "language_info": {
   "codemirror_mode": {
    "name": "ipython",
    "version": 3
   },
   "file_extension": ".py",
   "mimetype": "text/x-python",
   "name": "python",
   "nbconvert_exporter": "python",
   "pygments_lexer": "ipython3",
   "version": "3.7.6"
  }
 },
 "nbformat": 4,
 "nbformat_minor": 4
}
